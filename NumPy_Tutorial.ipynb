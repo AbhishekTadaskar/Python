{
 "cells": [
  {
   "cell_type": "markdown",
   "id": "b51a8095",
   "metadata": {},
   "source": [
    "# NumPy Tutorial with Definitions, Explanations, and Examples\n",
    "This notebook provides a complete guide to NumPy including definitions, explanations using comments, and code examples."
   ]
  },
  {
   "cell_type": "code",
   "execution_count": null,
   "id": "3b186b74",
   "metadata": {},
   "outputs": [],
   "source": [
    "# Import the numpy library\n",
    "import numpy as np"
   ]
  },
  {
   "cell_type": "markdown",
   "id": "ff09049b",
   "metadata": {},
   "source": [
    "## What is NumPy?\n",
    "NumPy stands for Numerical Python. It is the core library for scientific computing in Python. It provides high-performance multi-dimensional arrays and tools to work with them."
   ]
  },
  {
   "cell_type": "markdown",
   "id": "cea76872",
   "metadata": {},
   "source": [
    "## Creating Arrays\n",
    "You can create NumPy arrays using `np.array()` or built-in functions like `np.zeros()`, `np.ones()`, and `np.arange()`."
   ]
  },
  {
   "cell_type": "code",
   "execution_count": null,
   "id": "a9e3e323",
   "metadata": {},
   "outputs": [],
   "source": [
    "# Create a 1D array\n",
    "a = np.array([1, 2, 3])  # A simple 1-dimensional array\n",
    "print('1D Array:', a)\n",
    "\n",
    "# Create a 2D array\n",
    "b = np.array([[1, 2], [3, 4]])  # A 2-dimensional array (matrix)\n",
    "print('2D Array:\\n', b)"
   ]
  },
  {
   "cell_type": "markdown",
   "id": "4acaa30d",
   "metadata": {},
   "source": [
    "## Array Properties\n",
    "You can check the shape, size, data type, and number of dimensions of an array."
   ]
  },
  {
   "cell_type": "code",
   "execution_count": null,
   "id": "c55718b3",
   "metadata": {},
   "outputs": [],
   "source": [
    "# Check various properties of an array\n",
    "print('Shape:', b.shape)  # Returns the shape of the array\n",
    "print('Size:', b.size)    # Total number of elements\n",
    "print('Data Type:', b.dtype)  # Data type of elements\n",
    "print('Dimensions:', b.ndim)  # Number of dimensions"
   ]
  },
  {
   "cell_type": "markdown",
   "id": "b7de9142",
   "metadata": {},
   "source": [
    "## Array Operations\n",
    "NumPy allows element-wise operations, dot products, and broadcasting."
   ]
  },
  {
   "cell_type": "code",
   "execution_count": null,
   "id": "eeb4c8cf",
   "metadata": {},
   "outputs": [],
   "source": [
    "# Perform element-wise operations\n",
    "x = np.array([1, 2, 3])\n",
    "y = np.array([4, 5, 6])\n",
    "\n",
    "print('Addition:', x + y)        # Adds corresponding elements\n",
    "print('Multiplication:', x * y)  # Multiplies corresponding elements\n",
    "print('Dot Product:', np.dot(x, y))  # Computes the dot product"
   ]
  },
  {
   "cell_type": "markdown",
   "id": "d0567163",
   "metadata": {},
   "source": [
    "## Slicing and Indexing\n",
    "You can access elements or subarrays using slicing and indexing."
   ]
  },
  {
   "cell_type": "code",
   "execution_count": null,
   "id": "025ac87a",
   "metadata": {},
   "outputs": [],
   "source": [
    "# Accessing elements from an array\n",
    "arr = np.array([10, 20, 30, 40, 50])\n",
    "print('First element:', arr[0])        # First element\n",
    "print('Last two elements:', arr[-2:])  # Last two elements using slicing"
   ]
  },
  {
   "cell_type": "markdown",
   "id": "6e15099f",
   "metadata": {},
   "source": [
    "## Reshaping Arrays\n",
    "Use `reshape()` to change the shape of an array without changing its data."
   ]
  },
  {
   "cell_type": "code",
   "execution_count": null,
   "id": "29c0e79d",
   "metadata": {},
   "outputs": [],
   "source": [
    "# Change the shape of an array\n",
    "arr = np.arange(1, 10)  # Creates an array from 1 to 9\n",
    "reshaped = arr.reshape((3, 3))  # Reshapes it to 3x3\n",
    "print('Original:', arr)\n",
    "print('Reshaped:\\n', reshaped)"
   ]
  },
  {
   "cell_type": "markdown",
   "id": "fbe6d0eb",
   "metadata": {},
   "source": [
    "## Statistical Operations\n",
    "You can compute statistics like mean, sum, min, max, etc., across the whole array or along specific axes."
   ]
  },
  {
   "cell_type": "code",
   "execution_count": null,
   "id": "d96acceb",
   "metadata": {},
   "outputs": [],
   "source": [
    "# Calculate mean, sum, etc.\n",
    "data = np.array([[1, 2, 3], [4, 5, 6]])\n",
    "print('Mean:', np.mean(data))                 # Mean of all elements\n",
    "print('Sum along columns:', np.sum(data, axis=0))  # Sum along each column"
   ]
  },
  {
   "cell_type": "markdown",
   "id": "b61d1bed",
   "metadata": {},
   "source": [
    "## Random Numbers\n",
    "NumPy provides functions to generate random numbers, useful in simulations and testing."
   ]
  },
  {
   "cell_type": "code",
   "execution_count": null,
   "id": "2f5d8bd0",
   "metadata": {},
   "outputs": [],
   "source": [
    "# Generate random numbers\n",
    "print('Random integers:', np.random.randint(0, 10, size=5))  # 5 random integers from 0 to 9\n",
    "print('Random floats:', np.random.rand(3))  # 3 random float numbers between 0 and 1"
   ]
  },
  {
   "cell_type": "markdown",
   "id": "5f305f29",
   "metadata": {},
   "source": [
    "## Conclusion\n",
    "NumPy is essential for numerical computations in Python and is widely used in data analysis, machine learning, and scientific computing."
   ]
  }
 ],
 "metadata": {
  "language_info": {
   "name": "python"
  }
 },
 "nbformat": 4,
 "nbformat_minor": 5
}
