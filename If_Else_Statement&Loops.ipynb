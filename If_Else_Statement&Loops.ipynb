{
  "nbformat": 4,
  "nbformat_minor": 0,
  "metadata": {
    "colab": {
      "provenance": []
    },
    "kernelspec": {
      "name": "python3",
      "display_name": "Python 3"
    },
    "language_info": {
      "name": "python"
    }
  },
  "cells": [
    {
      "cell_type": "code",
      "source": [
        "###############################################################  IF-ELIF-ELSE STATEMENT ##########################################################################\n",
        "\n",
        "# List of food items\n",
        "food = ['apple', 'banana', 'pineapple', 'orange']\n",
        "\n",
        "# Corresponding prices\n",
        "price = [100, 200, 150, 250]\n",
        "\n",
        "# Ask user to enter a price\n",
        "food_price = int(input(\"Enter the price: \"))\n",
        "\n",
        "# Apply discount based on the price range using if-elif-else\n",
        "if 50 < food_price <= 100:\n",
        "    # Apple discount: 10%\n",
        "    print(f\"The discount on apple is 10%, final bill is: ₹{food_price * 0.9:.2f}\")\n",
        "elif 100 < food_price <= 150:\n",
        "    # Pineapple discount: 20%\n",
        "    print(f\"The discount on pineapple is 20%, final bill is: ₹{food_price * 0.8:.2f}\")\n",
        "elif 150 < food_price <= 200:\n",
        "    # Banana discount: 30%\n",
        "    print(f\"The discount on banana is 30%, final bill is: ₹{food_price * 0.7:.2f}\")\n",
        "elif 200 < food_price <= 250:\n",
        "    # Orange discount: 40%\n",
        "    print(f\"The discount on orange is 40%, final bill is: ₹{food_price * 0.6:.2f}\")\n",
        "else:\n",
        "    # If price doesn't match any range\n",
        "    print(\"No discount will apply\")\n"
      ],
      "metadata": {
        "colab": {
          "base_uri": "https://localhost:8080/"
        },
        "id": "fgIe668_6WqO",
        "outputId": "6d7d7219-8fe1-4480-a66b-91c501974a49"
      },
      "execution_count": 1,
      "outputs": [
        {
          "output_type": "stream",
          "name": "stdout",
          "text": [
            "Enter the price: 200\n",
            "The discount on banana is 30%, final bill is: ₹140.00\n"
          ]
        }
      ]
    },
    {
      "cell_type": "code",
      "source": [
        "###############################################################  FOR LOOP ##########################################################################\n",
        "\n",
        "# List of dictionaries containing student names and their marks\n",
        "students = [\n",
        "    {\"name\": \"Alice\", \"marks\": 91},\n",
        "    {\"name\": \"Bob\", \"marks\": 76},\n",
        "    {\"name\": \"Charlie\", \"marks\": 45},\n",
        "    {\"name\": \"David\", \"marks\": 39},\n",
        "    {\"name\": \"Eva\", \"marks\": 88}\n",
        "]\n",
        "\n",
        "# Loop through each student in the list\n",
        "for student in students:\n",
        "    name = student[\"name\"]        # Get the student's name\n",
        "    marks = student[\"marks\"]      # Get the student's marks\n",
        "\n",
        "    # Determine grade based on marks\n",
        "    if marks >= 90:\n",
        "        grade = 'A'\n",
        "    elif marks >= 75:\n",
        "        grade = 'B'\n",
        "    elif marks >= 50:\n",
        "        grade = 'C'\n",
        "    elif marks >= 40:\n",
        "        grade = 'D'\n",
        "    else:\n",
        "        grade = 'F'\n",
        "\n",
        "    # Determine pass/fail\n",
        "    if marks >= 40:\n",
        "        result = \"Pass\"\n",
        "    else:\n",
        "        result = \"Fail\"\n",
        "\n",
        "    # Print the report for each student\n",
        "    print(f\"Student: {name} | Marks: {marks} | Grade: {grade} | Result: {result}\")\n"
      ],
      "metadata": {
        "colab": {
          "base_uri": "https://localhost:8080/"
        },
        "id": "ILipiP1h5Djh",
        "outputId": "fd8969d3-9a57-4bdd-8314-858a6b4e72cb"
      },
      "execution_count": 2,
      "outputs": [
        {
          "output_type": "stream",
          "name": "stdout",
          "text": [
            "Student: Alice | Marks: 91 | Grade: A | Result: Pass\n",
            "Student: Bob | Marks: 76 | Grade: B | Result: Pass\n",
            "Student: Charlie | Marks: 45 | Grade: D | Result: Pass\n",
            "Student: David | Marks: 39 | Grade: F | Result: Fail\n",
            "Student: Eva | Marks: 88 | Grade: B | Result: Pass\n"
          ]
        }
      ]
    },
    {
      "cell_type": "code",
      "execution_count": 4,
      "metadata": {
        "colab": {
          "base_uri": "https://localhost:8080/"
        },
        "id": "sYSW32iI31II",
        "outputId": "c1b922e7-029d-4e3d-bfe0-92ed2cd684fd"
      },
      "outputs": [
        {
          "output_type": "stream",
          "name": "stdout",
          "text": [
            "Question 1: What will be the output of the following code snippet?\n",
            "print(2**3 + (5 + 6)**(1 + 1))\n",
            "Options:\n",
            "(a) 129\n",
            "(b) 8\n",
            "(c) 121\n",
            "(d) None\n",
            "Ans: a\n",
            "Correct Answer and you win 0.50rs\n",
            "\n",
            "Question 2: What is the maximum length of a Python identifier?\n",
            "Options:\n",
            "(a) 32\n",
            "(b) 16\n",
            "(c) 128\n",
            "(d) Not fixed\n",
            "Ans: d\n",
            "Correct Answer and you win 1rs\n",
            "\n",
            "Question 3: What will be the datatype of the var in the below code snippet?\n",
            "var = 10\n",
            "print(type(var))\n",
            "var = \"Hello\"\n",
            "print(type(var))\n",
            "\n",
            "Options:\n",
            "(a) str and int\n",
            "(b) int and str\n",
            "(c) int and int\n",
            "(d) str and str\n",
            "Ans: b\n",
            "Correct Answer and you win 2rs\n",
            "\n",
            "Question 4: Which of the following scenarios would lead to a TypeError in Python?\n",
            "Options:\n",
            "(a) len(\"hello\")\n",
            "(b) 1 + \"2\"\n",
            "(c) [1, 2].append(3)\n",
            "(d) {\"a\": 1}.get(\"b\")\n",
            "Ans: b\n",
            "Correct Answer and you win 4rs\n",
            "\n",
            "Final amount you win = ₹12000\n"
          ]
        }
      ],
      "source": [
        "###############################################################  WHILE LOOP ##########################################################################\n",
        "\n",
        "# List of reward amounts for each correct answer\n",
        "l = [1000, 2000, 4000, 5000]\n",
        "\n",
        "# List to store the earned amounts\n",
        "rupees = []\n",
        "\n",
        "# Start the quiz loop\n",
        "while True:\n",
        "\n",
        "    # Question 1\n",
        "    q1 = input('Question 1: What will be the output of the following code snippet?\\nprint(2**3 + (5 + 6)**(1 + 1))\\nOptions:\\n(a) 129\\n(b) 8\\n(c) 121\\n(d) None\\nAns: ')\n",
        "    if q1 == '129' or q1 == 'a':\n",
        "        print('Correct Answer and you win 0.50rs')\n",
        "        rupees.append(l[0])  # Add 1000 to total (you can change this to 0.5 if you mean actual money, not a prize code)\n",
        "    else:\n",
        "        print('Wrong Answer')\n",
        "        # pass means continue to next question even if wrong\n",
        "        pass\n",
        "\n",
        "    # Question 2\n",
        "    q2 = input('\\nQuestion 2: What is the maximum length of a Python identifier?\\nOptions:\\n(a) 32\\n(b) 16\\n(c) 128\\n(d) Not fixed\\nAns: ')\n",
        "    if q2 == 'Not fixed' or q2 == 'd':\n",
        "        print('Correct Answer and you win 1rs')\n",
        "        rupees.append(l[1])  # Add 2000 to total\n",
        "    else:\n",
        "        print('Wrong Answer')\n",
        "        pass\n",
        "\n",
        "    # Question 3\n",
        "    q3 = input('\\nQuestion 3: What will be the datatype of the var in the below code snippet?\\nvar = 10\\nprint(type(var))\\nvar = \"Hello\"\\nprint(type(var))\\n\\nOptions:\\n(a) str and int\\n(b) int and str\\n(c) int and int\\n(d) str and str\\nAns: ')\n",
        "    if q3 == 'int and str' or q3 == 'b':\n",
        "        print('Correct Answer and you win 2rs')\n",
        "        rupees.append(l[2])  # Add 4000 to total\n",
        "    else:\n",
        "        print('Wrong Answer')\n",
        "        pass\n",
        "\n",
        "    # Question 4\n",
        "    q4 = input('\\nQuestion 4: Which of the following scenarios would lead to a TypeError in Python?\\nOptions:\\n(a) len(\"hello\")\\n(b) 1 + \"2\"\\n(c) [1, 2].append(3)\\n(d) {\"a\": 1}.get(\"b\")\\nAns: ')\n",
        "    if q4 == '1 + \"2\"' or q4 == 'b':\n",
        "        print('Correct Answer and you win 4rs')\n",
        "        rupees.append(l[3])  # Add 5000 to total\n",
        "    else:\n",
        "        print('Wrong Answer')\n",
        "        pass\n",
        "\n",
        "    # End the quiz after all questions\n",
        "    break\n",
        "\n",
        "# Display the total amount earned\n",
        "print(f'\\nFinal amount you win = ₹{sum(rupees)}')\n"
      ]
    },
    {
      "cell_type": "code",
      "source": [],
      "metadata": {
        "id": "psdOYGLn8Wm9"
      },
      "execution_count": null,
      "outputs": []
    }
  ]
}