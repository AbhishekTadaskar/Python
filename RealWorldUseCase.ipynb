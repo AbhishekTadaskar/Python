{
  "nbformat": 4,
  "nbformat_minor": 0,
  "metadata": {
    "colab": {
      "provenance": []
    },
    "kernelspec": {
      "name": "python3",
      "display_name": "Python 3"
    },
    "language_info": {
      "name": "python"
    }
  },
  "cells": [
    {
      "cell_type": "code",
      "execution_count": 15,
      "metadata": {
        "colab": {
          "base_uri": "https://localhost:8080/"
        },
        "id": "iN9U94YVsz_n",
        "outputId": "deb6007c-917c-4961-b954-99d97c606568"
      },
      "outputs": [
        {
          "output_type": "stream",
          "name": "stdout",
          "text": [
            "Enter your pickup city: PUNE\n",
            "Enter your destination city: NAGPUR\n",
            "Final Price: ₹ 6200.42\n"
          ]
        }
      ],
      "source": [
        "################################################## DEVELOPMENT CODE #######################################################\n",
        "\n",
        "# Calculate the distance between the pick-up location and the drop location\n",
        "import requests  # For making HTTP requests\n",
        "import geopy.distance  # For calculating distance between coordinates\n",
        "\n",
        "# Geocoding API key\n",
        "api_key = \"7d460519044cd992fba0a838f74c17d5\"\n",
        "\n",
        "# Get pickup city name from user\n",
        "Pickup_Point = input(\"Enter your pickup city: \")\n",
        "\n",
        "# Use Geocoding API to get coordinates for pickup city\n",
        "url1 = f\"http://api.openweathermap.org/geo/1.0/direct?q={Pickup_Point}&limit=1&appid={api_key}\"\n",
        "response1 = requests.get(url1)\n",
        "response1.raise_for_status()\n",
        "data1 = response1.json()\n",
        "\n",
        "# Get destination city name from user\n",
        "Destination = input(\"Enter your destination city: \")\n",
        "\n",
        "# Use Geocoding API to get coordinates for destination city\n",
        "url2 = f\"http://api.openweathermap.org/geo/1.0/direct?q={Destination}&limit=1&appid={api_key}\"\n",
        "response2 = requests.get(url2)\n",
        "response2.raise_for_status()\n",
        "data2 = response2.json()\n",
        "\n",
        "# Extract latitude and longitude from geocoding response\n",
        "Pickup_Point_lat = data1[0]['lat']\n",
        "Pickup_Point_lon = data1[0]['lon']\n",
        "Destination_lat = data2[0]['lat']\n",
        "Destination_lon = data2[0]['lon']\n",
        "\n",
        "# Function to calculate distance in kilometers between two coordinates\n",
        "def get_distance(location_1, location_2):\n",
        "    distance = geopy.distance.distance(location_1, location_2).km\n",
        "    return distance\n",
        "\n",
        "# Function to decide price per km based on booking hour\n",
        "def get_price_per_km(hour):\n",
        "    if (hour > 8) and (hour < 11):\n",
        "        price_per_km = 20  # Peak morning\n",
        "    elif (hour > 11) and (hour < 18):\n",
        "        price_per_km = 15  # Daytime\n",
        "    else:\n",
        "        price_per_km = 10  # Off-hours\n",
        "    return price_per_km\n",
        "\n",
        "# Function to calculate total ride price\n",
        "def get_final_price(Pickup_point_location, destination_location, hour):\n",
        "    total_distance = get_distance(Pickup_point_location, destination_location)\n",
        "    price_per_km = get_price_per_km(hour)\n",
        "    final_price = round(total_distance * price_per_km, 2)  # Round to 2 decimals\n",
        "    return final_price\n",
        "\n",
        "# Create coordinate tuples\n",
        "Pickup_point_location = (Pickup_Point_lat, Pickup_Point_lon)\n",
        "destination_location = (Destination_lat, Destination_lon)\n",
        "\n",
        "# Example: Booking made at 7 PM\n",
        "booking_hour = 19\n",
        "\n",
        "# Output the final price\n",
        "print(\"Final Price: ₹\", get_final_price(Pickup_point_location, destination_location, booking_hour))\n"
      ]
    },
    {
      "cell_type": "code",
      "source": [
        "################################################## PRODUCTION GRADE CODE #######################################################\n",
        "\n",
        "# Calculate the distance between the pick-up location and the drop location\n",
        "import geopy.distance  # For calculating geographical distance\n",
        "import math  # For fallback distance calculation\n",
        "import requests  # For making API requests\n",
        "\n",
        "# Geocoding API key\n",
        "api_key = \"7d460519044cd992fba0a838f74c17d5\"\n",
        "\n",
        "# ----------- Get Pickup City Coordinates -----------\n",
        "Pickup_Point = input(\"Enter your pickup city: \")\n",
        "\n",
        "# Geocoding API to get lat/lon for pickup city\n",
        "url1 = f\"http://api.openweathermap.org/geo/1.0/direct?q={Pickup_Point}&limit=1&appid={api_key}\"\n",
        "response1 = requests.get(url1)  # Send request\n",
        "response1.raise_for_status()  # Raise error if request failed\n",
        "data1 = response1.json()  # Convert response to JSON\n",
        "\n",
        "# ----------- Get Destination City Coordinates -----------\n",
        "Destination = input(\"Enter your destination city: \")\n",
        "\n",
        "# Geocoding API to get lat/lon for destination city\n",
        "url2 = f\"http://api.openweathermap.org/geo/1.0/direct?q={Destination}&limit=1&appid={api_key}\"\n",
        "response2 = requests.get(url2)  # Send request\n",
        "response2.raise_for_status()  # Raise error if request failed\n",
        "data2 = response2.json()  # Convert response to JSON\n",
        "\n",
        "# Extract latitudes and longitudes from both responses\n",
        "Pickup_Point_lat = data1[0]['lat']\n",
        "Pickup_Point_lon = data1[0]['lon']\n",
        "Destination_lat = data2[0]['lat']\n",
        "Destination_lon = data2[0]['lon']\n",
        "\n",
        "# ----------- Distance Calculator Class -----------\n",
        "class Maps:\n",
        "    def __init__(self):\n",
        "        pass\n",
        "\n",
        "    def get_distance(self, location_1, location_2):\n",
        "        try:\n",
        "            # Use geopy to calculate distance in km\n",
        "            distance = geopy.distance.distance(location_1, location_2).km\n",
        "        except:\n",
        "            # Fallback using simple Euclidean approximation\n",
        "            distance = math.sqrt((location_1[0] - location_2[0]) ** 2 + (location_1[1] - location_2[1]) ** 2)\n",
        "        return distance\n",
        "\n",
        "# ----------- Surge Pricing Class -----------\n",
        "class SurgePricing:\n",
        "    def __init__(self):\n",
        "        pass\n",
        "\n",
        "    def get_price_per_km(self, hour):\n",
        "        try:\n",
        "            # Define price per km based on time of day\n",
        "            if (hour > 8) & (hour < 11):  # Morning peak\n",
        "                price_per_km = 20\n",
        "            elif (hour > 18) & (hour < 21):  # Evening peak\n",
        "                price_per_km = 15\n",
        "            else:\n",
        "                price_per_km = 10  # Off-peak\n",
        "        except:\n",
        "            price_per_km = 10  # Default\n",
        "        return price_per_km\n",
        "\n",
        "# ----------- Final Price Calculation Function -----------\n",
        "def get_final_price(Pickup_point_location, destination_location, booking_hour):\n",
        "    maps = Maps()  # Create distance calculator object\n",
        "    surge = SurgePricing()  # Create surge pricing object\n",
        "\n",
        "    total_distance = maps.get_distance(Pickup_point_location, destination_location)\n",
        "    actual_price_per_km = surge.get_price_per_km(booking_hour)\n",
        "\n",
        "    final_price = round(total_distance * actual_price_per_km, 2)  # Final cost\n",
        "    return final_price\n",
        "\n",
        "# ----------- Run Calculation -----------\n",
        "# Prepare location tuples\n",
        "Pickup_point_location = (Pickup_Point_lat, Pickup_Point_lon)\n",
        "destination_location = (Destination_lat, Destination_lon)\n",
        "\n",
        "booking_hour = 14  # Example booking hour (2 PM)\n",
        "\n",
        "# Print final ride price\n",
        "print(\"Final Price: ₹\", get_final_price(Pickup_point_location, destination_location, booking_hour))"
      ],
      "metadata": {
        "colab": {
          "base_uri": "https://localhost:8080/"
        },
        "id": "_Abg_Fc4tYuO",
        "outputId": "808153ed-f489-4911-8233-7e9f6c85454d"
      },
      "execution_count": 16,
      "outputs": [
        {
          "output_type": "stream",
          "name": "stdout",
          "text": [
            "Enter your pickup city: PUNE\n",
            "Enter your destination city: NAGPUR\n",
            "Final Price: ₹ 6200.42\n"
          ]
        }
      ]
    },
    {
      "cell_type": "code",
      "source": [],
      "metadata": {
        "id": "ehyJC8MAuFuA"
      },
      "execution_count": null,
      "outputs": []
    }
  ]
}